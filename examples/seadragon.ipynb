{
 "cells": [
  {
   "cell_type": "code",
   "execution_count": 1,
   "metadata": {},
   "outputs": [],
   "source": [
    "from ipyvisus import Viewer2d, Viewer3d"
   ]
  },
  {
   "cell_type": "code",
   "execution_count": 2,
   "metadata": {},
   "outputs": [
    {
     "data": {
      "application/vnd.jupyter.widget-view+json": {
       "model_id": "504006bcd1fa4705bd91e59706fd323c",
       "version_major": 2,
       "version_minor": 0
      },
      "text/plain": [
       "Viewer2d(dataset='david_subsampled')"
      ]
     },
     "metadata": {},
     "output_type": "display_data"
    }
   ],
   "source": [
    "v = Viewer2d(dataset='david_subsampled')\n",
    "v"
   ]
  },
  {
   "cell_type": "code",
   "execution_count": 3,
   "metadata": {},
   "outputs": [],
   "source": [
    "v.proxy='localhost:5000'"
   ]
  },
  {
   "cell_type": "code",
   "execution_count": 6,
   "metadata": {},
   "outputs": [],
   "source": [
    "v.dataset = \"sandiego\""
   ]
  },
  {
   "cell_type": "code",
   "execution_count": 7,
   "metadata": {},
   "outputs": [],
   "source": [
    "v.dataset = 'david_subsampled'"
   ]
  },
  {
   "cell_type": "code",
   "execution_count": 4,
   "metadata": {},
   "outputs": [],
   "source": [
    "v.format = 'jpg'"
   ]
  },
  {
   "cell_type": "code",
   "execution_count": 5,
   "metadata": {},
   "outputs": [],
   "source": [
    "v.proxy = None"
   ]
  },
  {
   "cell_type": "code",
   "execution_count": 6,
   "metadata": {},
   "outputs": [],
   "source": [
    "v.proxy"
   ]
  },
  {
   "cell_type": "code",
   "execution_count": null,
   "metadata": {},
   "outputs": [],
   "source": []
  }
 ],
 "metadata": {
  "kernelspec": {
   "display_name": "Python 3",
   "language": "python",
   "name": "python3"
  },
  "language_info": {
   "codemirror_mode": {
    "name": "ipython",
    "version": 3
   },
   "file_extension": ".py",
   "mimetype": "text/x-python",
   "name": "python",
   "nbconvert_exporter": "python",
   "pygments_lexer": "ipython3",
   "version": "3.7.3"
  },
  "widgets": {
   "application/vnd.jupyter.widget-state+json": {
    "state": {
     "3331852118f54db8ba9e3531b495eb05": {
      "buffers": [
       {
        "data": "",
        "encoding": "base64",
        "path": [
         "image",
         "buffer"
        ]
       }
      ],
      "model_module": "@visus/ipyvisus",
      "model_module_version": "1.0.0",
      "model_name": "ViewerModel",
      "state": {
       "_model_module": "@visus/ipyvisus",
       "_view_module": "@visus/ipyvisus",
       "dataset": "sandiego",
       "image": {
        "buffer": {},
        "dtype": "float64",
        "shape": [
         0
        ]
       },
       "layout": "IPY_MODEL_e51c245220f847b6af1819e43caaa64d"
      }
     },
     "e51c245220f847b6af1819e43caaa64d": {
      "model_module": "@jupyter-widgets/base",
      "model_module_version": "1.2.0",
      "model_name": "LayoutModel",
      "state": {}
     }
    },
    "version_major": 2,
    "version_minor": 0
   }
  }
 },
 "nbformat": 4,
 "nbformat_minor": 4
}
