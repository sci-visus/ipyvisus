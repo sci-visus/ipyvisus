{
 "cells": [
  {
   "cell_type": "code",
   "execution_count": 1,
   "metadata": {},
   "outputs": [],
   "source": [
    "from ipyvisus import Viewer2d, Viewer3d"
   ]
  },
  {
   "cell_type": "code",
   "execution_count": 2,
   "metadata": {},
   "outputs": [
    {
     "data": {
      "application/vnd.jupyter.widget-view+json": {
       "model_id": "5ef530dfe4e749329a67e06b69877acd",
       "version_major": 2,
       "version_minor": 0
      },
      "text/plain": [
       "Viewer2d(dataset='david_subsampled')"
      ]
     },
     "metadata": {},
     "output_type": "display_data"
    }
   ],
   "source": [
    "v = Viewer2d(dataset='david_subsampled')\n",
    "v"
   ]
  },
  {
   "cell_type": "code",
   "execution_count": 5,
   "metadata": {},
   "outputs": [],
   "source": [
    "v.proxy='localhost:5000'"
   ]
  },
  {
   "cell_type": "code",
   "execution_count": 7,
   "metadata": {},
   "outputs": [],
   "source": [
    "v.dataset = \"sandiego\""
   ]
  },
  {
   "cell_type": "code",
   "execution_count": 7,
   "metadata": {},
   "outputs": [],
   "source": [
    "v.dataset = 'david_subsampled'"
   ]
  },
  {
   "cell_type": "code",
   "execution_count": 4,
   "metadata": {},
   "outputs": [],
   "source": [
    "v.format = 'jpg'"
   ]
  },
  {
   "cell_type": "code",
   "execution_count": 6,
   "metadata": {},
   "outputs": [],
   "source": [
    "v.proxy = None"
   ]
  },
  {
   "cell_type": "code",
   "execution_count": 6,
   "metadata": {},
   "outputs": [],
   "source": [
    "v.proxy"
   ]
  },
  {
   "cell_type": "code",
   "execution_count": 15,
   "metadata": {},
   "outputs": [],
   "source": [
    "v.palette = ('', 0, 0, 'Default')"
   ]
  },
  {
   "cell_type": "markdown",
   "metadata": {},
   "source": [
    "### server with palette requirement"
   ]
  },
  {
   "cell_type": "code",
   "execution_count": 3,
   "metadata": {},
   "outputs": [
    {
     "data": {
      "application/vnd.jupyter.widget-view+json": {
       "model_id": "75e1eb07d5634c058c9cf31c7a6fdce5",
       "version_major": 2,
       "version_minor": 0
      },
      "text/plain": [
       "Viewer2d(dataset='nature_2007_aer1_hourly', field='SUANGSTR', server='https://aims2.llnl.gov/visus')"
      ]
     },
     "metadata": {},
     "output_type": "display_data"
    }
   ],
   "source": [
    "v1 = Viewer2d(dataset='nature_2007_aer1_hourly', server = 'https://aims2.llnl.gov/visus', field='SUANGSTR')\n",
    "v1"
   ]
  },
  {
   "cell_type": "code",
   "execution_count": 4,
   "metadata": {},
   "outputs": [],
   "source": [
    "v1.palette = ('rich', 0, 4, 'Default')"
   ]
  },
  {
   "cell_type": "code",
   "execution_count": null,
   "metadata": {},
   "outputs": [],
   "source": []
  },
  {
   "cell_type": "code",
   "execution_count": 10,
   "metadata": {},
   "outputs": [],
   "source": [
    "v1.palette_max = 6"
   ]
  },
  {
   "cell_type": "code",
   "execution_count": 8,
   "metadata": {},
   "outputs": [],
   "source": [
    "v1.palette_min = 0"
   ]
  },
  {
   "cell_type": "code",
   "execution_count": 11,
   "metadata": {},
   "outputs": [
    {
     "data": {
      "text/plain": [
       "('rich', 0, 6, 'Default')"
      ]
     },
     "execution_count": 11,
     "metadata": {},
     "output_type": "execute_result"
    }
   ],
   "source": [
    "v1.palette"
   ]
  },
  {
   "cell_type": "code",
   "execution_count": 5,
   "metadata": {},
   "outputs": [
    {
     "data": {
      "text/plain": [
       "[0, 4008]"
      ]
     },
     "execution_count": 5,
     "metadata": {},
     "output_type": "execute_result"
    }
   ],
   "source": [
    "v1.times"
   ]
  },
  {
   "cell_type": "code",
   "execution_count": 6,
   "metadata": {},
   "outputs": [
    {
     "data": {
      "text/plain": [
       "['SUANGSTR',\n",
       " 'SSEXTTAU',\n",
       " 'COSC',\n",
       " 'BCSCATAU',\n",
       " 'OCEXTTAU',\n",
       " 'OCSCATAU',\n",
       " 'SSCMASS',\n",
       " 'SO4CMASS',\n",
       " 'SSSCATAU',\n",
       " 'OCCMASS',\n",
       " 'DUSCAT25',\n",
       " 'SO2CMASS',\n",
       " 'BCEXTTAU',\n",
       " 'CO2SC001',\n",
       " 'OCSMASS',\n",
       " 'DUCMASS',\n",
       " 'DUEXTT25',\n",
       " 'BCSMASS',\n",
       " 'DMSCMASS',\n",
       " 'COCL',\n",
       " 'BCANGSTR',\n",
       " 'SO4SMASS',\n",
       " 'SSSMASS',\n",
       " 'DUSMASS',\n",
       " 'OCANGSTR',\n",
       " 'TOTANGSTR',\n",
       " 'SSCMASS25',\n",
       " 'DUSCATAU',\n",
       " 'SSSMASS25',\n",
       " 'TOTEXTTAU',\n",
       " 'SUSCATAU',\n",
       " 'DUANGSTR',\n",
       " 'SSEXTT25',\n",
       " 'TOTSCATAU',\n",
       " 'DUCMASS25',\n",
       " 'BCCMASS',\n",
       " 'DMSSMASS',\n",
       " 'SSSCAT25',\n",
       " 'SO2SMASS',\n",
       " 'SUEXTTAU',\n",
       " 'DUSMASS25',\n",
       " 'SSANGSTR',\n",
       " 'DUEXTTAU',\n",
       " 'CO2CL001']"
      ]
     },
     "execution_count": 6,
     "metadata": {},
     "output_type": "execute_result"
    }
   ],
   "source": [
    "v1.fields"
   ]
  },
  {
   "cell_type": "code",
   "execution_count": null,
   "metadata": {},
   "outputs": [],
   "source": []
  }
 ],
 "metadata": {
  "kernelspec": {
   "display_name": "Python 3",
   "language": "python",
   "name": "python3"
  },
  "language_info": {
   "codemirror_mode": {
    "name": "ipython",
    "version": 3
   },
   "file_extension": ".py",
   "mimetype": "text/x-python",
   "name": "python",
   "nbconvert_exporter": "python",
   "pygments_lexer": "ipython3",
   "version": "3.7.3"
  },
  "widgets": {
   "application/vnd.jupyter.widget-state+json": {
    "state": {
     "3331852118f54db8ba9e3531b495eb05": {
      "buffers": [
       {
        "data": "",
        "encoding": "base64",
        "path": [
         "image",
         "buffer"
        ]
       }
      ],
      "model_module": "@visus/ipyvisus",
      "model_module_version": "1.0.0",
      "model_name": "ViewerModel",
      "state": {
       "_model_module": "@visus/ipyvisus",
       "_view_module": "@visus/ipyvisus",
       "dataset": "sandiego",
       "image": {
        "buffer": {},
        "dtype": "float64",
        "shape": [
         0
        ]
       },
       "layout": "IPY_MODEL_e51c245220f847b6af1819e43caaa64d"
      }
     },
     "e51c245220f847b6af1819e43caaa64d": {
      "model_module": "@jupyter-widgets/base",
      "model_module_version": "1.2.0",
      "model_name": "LayoutModel",
      "state": {}
     }
    },
    "version_major": 2,
    "version_minor": 0
   }
  }
 },
 "nbformat": 4,
 "nbformat_minor": 4
}
